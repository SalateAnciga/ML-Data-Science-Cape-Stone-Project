{
 "cells": [
  {
   "cell_type": "code",
   "execution_count": 1,
   "id": "4c8e520b-0a50-414e-b60a-fa3a7624766d",
   "metadata": {},
   "outputs": [],
   "source": [
    "import pandas as pd\n",
    "from sklearn.feature_selection import SelectKBest, f_regression\n"
   ]
  },
  {
   "cell_type": "code",
   "execution_count": 2,
   "id": "7c4d9f9e-e4ac-4917-8734-0c5c57eca054",
   "metadata": {},
   "outputs": [],
   "source": []
  },
  {
   "cell_type": "code",
   "execution_count": 3,
   "id": "bd67ff38-aab6-4a66-b203-a23e66b286bb",
   "metadata": {},
   "outputs": [],
   "source": [
    "df2 = pd.read_csv(\"teen_phone_addiction_dataset.csv\", index_col=None)\n",
    "df= pd.DataFrame(df2)\n",
    "df2.drop(['Name', 'Location'], axis=1, inplace=True)\n",
    "df2= pd.get_dummies(df2,columns=['Gender','School_Grade','Phone_Usage_Purpose'],dtype=int,drop_first=True)\n",
    "#df2=pd.get_dummies(df2,dtype=int,drop_first=True)\n",
    "# Step : Define independent and target variables\n",
    "indep_x = df2.drop('Addiction_Level',axis=1)\n",
    "dep_y = df2['Addiction_Level']\n"
   ]
  },
  {
   "cell_type": "code",
   "execution_count": 4,
   "id": "36d09d06-93cf-436d-96b1-25c653b79ee2",
   "metadata": {},
   "outputs": [],
   "source": [
    "# Select top 5 features\n",
    "selector = SelectKBest(score_func=f_regression, k=5)\n",
    "X_new = selector.fit_transform(indep_x,dep_y)\n"
   ]
  },
  {
   "cell_type": "code",
   "execution_count": 5,
   "id": "706fc28e-3983-48c4-b073-f8fcd73b7431",
   "metadata": {},
   "outputs": [],
   "source": [
    "# Select top 5 features\n",
    "selector = SelectKBest(score_func=f_regression, k=5)\n",
    "X_new = selector.fit_transform(indep_x,dep_y)\n"
   ]
  },
  {
   "cell_type": "code",
   "execution_count": 6,
   "id": "b393dec2-949f-46e9-ab4b-67d990b45a84",
   "metadata": {},
   "outputs": [
    {
     "name": "stdout",
     "output_type": "stream",
     "text": [
      "Top 5 selected features:\n",
      "Index(['Daily_Usage_Hours', 'Phone_Checks_Per_Day', 'Apps_Used_Daily',\n",
      "       'Time_on_Social_Media', 'Time_on_Gaming'],\n",
      "      dtype='object')\n"
     ]
    }
   ],
   "source": [
    "# Get selected feature names\n",
    "selected_features =indep_x.columns[selector.get_support()]\n",
    "print(\"Top 5 selected features:\")\n",
    "print(selected_features)"
   ]
  },
  {
   "cell_type": "code",
   "execution_count": null,
   "id": "0bfbfb05-6b4f-4d73-9f90-f0b345254bea",
   "metadata": {},
   "outputs": [],
   "source": []
  }
 ],
 "metadata": {
  "kernelspec": {
   "display_name": "Python 3 (ipykernel)",
   "language": "python",
   "name": "python3"
  },
  "language_info": {
   "codemirror_mode": {
    "name": "ipython",
    "version": 3
   },
   "file_extension": ".py",
   "mimetype": "text/x-python",
   "name": "python",
   "nbconvert_exporter": "python",
   "pygments_lexer": "ipython3",
   "version": "3.12.4"
  }
 },
 "nbformat": 4,
 "nbformat_minor": 5
}
