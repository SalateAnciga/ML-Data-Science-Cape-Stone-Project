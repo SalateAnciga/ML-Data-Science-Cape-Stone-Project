{
 "cells": [
  {
   "cell_type": "code",
   "execution_count": 10,
   "id": "66318e37-62ad-4848-832f-f4b875595f7f",
   "metadata": {},
   "outputs": [],
   "source": [
    "import pickle\n",
    "import pandas as pd\n",
    "from sklearn.model_selection import train_test_split\n",
    "from sklearn.preprocessing import StandardScaler\n"
   ]
  },
  {
   "cell_type": "code",
   "execution_count": 7,
   "id": "6a743b0c-8c2a-432d-87a3-0aae97c6f15e",
   "metadata": {},
   "outputs": [],
   "source": [
    "dataset=pd.read_csv(\"teen_phone_addiction_dataset.csv\")"
   ]
  },
  {
   "cell_type": "code",
   "execution_count": 8,
   "id": "1ada8a20-0d70-41e4-8fa2-9c5b3f333f7c",
   "metadata": {},
   "outputs": [],
   "source": [
    "dataset=pd.get_dummies(dataset,drop_first=True,dtype=int)"
   ]
  },
  {
   "cell_type": "code",
   "execution_count": 11,
   "id": "c31c35f5-e286-4ad5-aa24-9e8b4de52a2e",
   "metadata": {},
   "outputs": [],
   "source": [
    "independent=dataset[['Daily_Usage_Hours', 'Phone_Checks_Per_Day', 'Apps_Used_Daily',\n",
    "       'Time_on_Social_Media', 'Time_on_Gaming']]"
   ]
  },
  {
   "cell_type": "code",
   "execution_count": 12,
   "id": "216fc458-4d05-47d8-a427-a823471bd30b",
   "metadata": {},
   "outputs": [],
   "source": [
    "dependent=dataset[['Addiction_Level']]"
   ]
  },
  {
   "cell_type": "code",
   "execution_count": 13,
   "id": "ec383730-4a20-4667-bd60-a847a6b1c881",
   "metadata": {},
   "outputs": [],
   "source": [
    "X_train,X_test,Y_train,Y_test=train_test_split(independent,dependent,test_size=0.30,random_state=0)"
   ]
  },
  {
   "cell_type": "code",
   "execution_count": 14,
   "id": "3ad8c202-6ad6-448b-b08e-b0b3661bf7df",
   "metadata": {},
   "outputs": [],
   "source": [
    "sc=StandardScaler()\n",
    "X_train=sc.fit_transform(X_train)\n",
    "X_test=sc.transform(X_test)"
   ]
  },
  {
   "cell_type": "code",
   "execution_count": 15,
   "id": "aaf145ce-bd68-4477-a2ef-a0b851283f51",
   "metadata": {},
   "outputs": [
    {
     "name": "stderr",
     "output_type": "stream",
     "text": [
      "C:\\Users\\jegat\\Anaconda3\\envs\\cluster\\Lib\\site-packages\\sklearn\\base.py:493: UserWarning: X does not have valid feature names, but StandardScaler was fitted with feature names\n",
      "  warnings.warn(\n"
     ]
    }
   ],
   "source": [
    "preinput=sc.transform([[3.6,96,17,3.1,2.0]])"
   ]
  },
  {
   "cell_type": "code",
   "execution_count": 16,
   "id": "da3f9dc7-05d4-4d46-aadc-434d51773468",
   "metadata": {},
   "outputs": [
    {
     "data": {
      "text/plain": [
       "array([[-0.71425809,  0.36673957,  0.96439794,  0.60727299,  0.48670855]])"
      ]
     },
     "execution_count": 16,
     "metadata": {},
     "output_type": "execute_result"
    }
   ],
   "source": [
    "preinput"
   ]
  },
  {
   "cell_type": "code",
   "execution_count": 17,
   "id": "9f386ba9-9e71-4483-9eba-93265e850f92",
   "metadata": {},
   "outputs": [],
   "source": [
    "loaded_model=pickle.load(open(\"finalized_model_svr.sav\",'rb'))\n",
    "result=loaded_model.predict(preinput)"
   ]
  },
  {
   "cell_type": "code",
   "execution_count": 18,
   "id": "7feb48a5-7099-4e08-826a-2153f7df0bec",
   "metadata": {},
   "outputs": [
    {
     "data": {
      "text/plain": [
       "array([9.99181512])"
      ]
     },
     "execution_count": 18,
     "metadata": {},
     "output_type": "execute_result"
    }
   ],
   "source": [
    "result"
   ]
  },
  {
   "cell_type": "code",
   "execution_count": null,
   "id": "f7ad0a63-06ca-4f28-b8b6-c39a705a4d7b",
   "metadata": {},
   "outputs": [],
   "source": []
  }
 ],
 "metadata": {
  "kernelspec": {
   "display_name": "Python 3 (ipykernel)",
   "language": "python",
   "name": "python3"
  },
  "language_info": {
   "codemirror_mode": {
    "name": "ipython",
    "version": 3
   },
   "file_extension": ".py",
   "mimetype": "text/x-python",
   "name": "python",
   "nbconvert_exporter": "python",
   "pygments_lexer": "ipython3",
   "version": "3.12.4"
  }
 },
 "nbformat": 4,
 "nbformat_minor": 5
}
